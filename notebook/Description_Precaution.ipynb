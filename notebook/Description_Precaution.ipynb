{
  "nbformat": 4,
  "nbformat_minor": 0,
  "metadata": {
    "colab": {
      "provenance": [],
      "gpuType": "T4"
    },
    "kernelspec": {
      "name": "python3",
      "display_name": "Python 3"
    },
    "language_info": {
      "name": "python"
    },
    "accelerator": "GPU"
  },
  "cells": [
    {
      "cell_type": "code",
      "source": [
        "import pandas as pd\n",
        "from google.colab import files\n",
        "from google.cloud import translate_v2 as translate\n",
        "import os\n",
        "import json\n",
        "import time"
      ],
      "metadata": {
        "id": "A2ZezLMciPyt"
      },
      "execution_count": null,
      "outputs": []
    },
    {
      "cell_type": "code",
      "source": [
        "# Mengambil kredensial dari Colab Secrets\n",
        "from google.colab import userdata\n",
        "credentials_json = userdata.get('GCLOUD_CREDENTIALS')"
      ],
      "metadata": {
        "id": "dFrsyxNwUNQy"
      },
      "execution_count": null,
      "outputs": []
    },
    {
      "cell_type": "code",
      "source": [
        "# Menyimpan credentials ke file sementara\n",
        "with open('gcloud_credentials.json', 'w') as f:\n",
        "    f.write(credentials_json)\n",
        "os.environ['GOOGLE_APPLICATION_CREDENTIALS'] = 'gcloud_credentials.json'"
      ],
      "metadata": {
        "id": "F-CBZHl_SsRI"
      },
      "execution_count": null,
      "outputs": []
    },
    {
      "cell_type": "code",
      "source": [
        "# Menginisialisasi client Translation API\n",
        "translate_client = translate.Client()"
      ],
      "metadata": {
        "id": "K2O1eEBXicWf"
      },
      "execution_count": null,
      "outputs": []
    },
    {
      "cell_type": "code",
      "source": [
        "# Fungsi untuk menerjemahkan teks dengan retry\n",
        "def translate_text(text, dest='id', retries=3):\n",
        "    if pd.isna(text):\n",
        "        return text\n",
        "    for _ in range(retries):\n",
        "        try:\n",
        "            result = translate_client.translate(text, target_language=dest)\n",
        "            return result['translatedText']\n",
        "        except Exception as e:\n",
        "            print(f\"Error menerjemahkan: {e}. Mencoba lagi...\")\n",
        "            time.sleep(1)\n",
        "    return text"
      ],
      "metadata": {
        "id": "T-k8-sVvidR1"
      },
      "execution_count": null,
      "outputs": []
    },
    {
      "cell_type": "code",
      "source": [
        "# Load dataset gejala\n",
        "general_df = pd.read_csv(\"penyakitumum.csv\")\n",
        "digestive_df = pd.read_csv(\"penyakitpencernaan.csv\")\n",
        "skin_df = pd.read_csv(\"penyakitkulit.csv\")\n",
        "bone_df = pd.read_csv(\"penyakittulang.csv\")\n",
        "\n",
        "# Load dataset deskripsi dan pencegahan\n",
        "desc_df = pd.read_csv(\"symptom_Description.csv\")\n",
        "prec_df = pd.read_csv(\"symptom_precaution.csv\")"
      ],
      "metadata": {
        "id": "XKcKqM7hie_l"
      },
      "execution_count": null,
      "outputs": []
    },
    {
      "cell_type": "code",
      "source": [
        "# menggabungkan semua penyakit dari dataset gejala\n",
        "all_diseases = set(general_df[\"Disease\"].str.strip().str.lower()) | \\\n",
        "    set(digestive_df[\"Disease\"].str.strip().str.lower()) | \\\n",
        "    set(skin_df[\"Disease\"].str.strip().str.lower()) | \\\n",
        "    set(bone_df[\"Disease\"].str.strip().str.lower())\n",
        "\n",
        "# Penyakit dari dataset deskripsi dan pencegahan\n",
        "desc_diseases = set(desc_df[\"Disease\"].str.strip().str.lower())\n",
        "prec_diseases = set(prec_df[\"Disease\"].str.strip().str.lower())"
      ],
      "metadata": {
        "id": "BwvzmrDkigh1"
      },
      "execution_count": null,
      "outputs": []
    },
    {
      "cell_type": "code",
      "source": [
        "# Memvalidasi konsistensi untuk mencocokan penyakit\n",
        "missing_in_desc = all_diseases - desc_diseases\n",
        "missing_in_prec = all_diseases - prec_diseases\n",
        "extra_in_desc = desc_diseases - all_diseases\n",
        "extra_in_prec = prec_diseases - all_diseases\n",
        "\n",
        "print(\"Penyakit di dataset gejala yang tidak ada di dataset deskripsi:\", missing_in_desc)\n",
        "print(\"Penyakit di dataset gejala yang tidak ada di dataset pencegahan:\", missing_in_prec)\n",
        "print(\"Penyakit di deskripsi yang tidak ada di dataset gejala:\", extra_in_desc)\n",
        "print(\"Penyakit di pencegahan yang tidak ada di dataset gejala:\", extra_in_prec)"
      ],
      "metadata": {
        "id": "O9RMQofmik8F",
        "colab": {
          "base_uri": "https://localhost:8080/"
        },
        "outputId": "99fe10e5-343b-4cae-f1ab-b2255479ddba"
      },
      "execution_count": null,
      "outputs": [
        {
          "output_type": "stream",
          "name": "stdout",
          "text": [
            "Penyakit di dataset gejala yang tidak ada di deskripsi: set()\n",
            "Penyakit di dataset gejala yang tidak ada di pencegahan: set()\n",
            "Penyakit di deskripsi yang tidak ada di gejala: {'hyperthyroidism', 'hepatitis d', 'diabetes', 'hypothyroidism', 'aids', '(vertigo) paroymsal  positional vertigo', 'acne', 'hepatitis b', 'hepatitis c', 'hepatitis a', 'hypoglycemia', 'hepatitis e', 'dimorphic hemorrhoids(piles)', 'alcoholic hepatitis', 'drug reaction', 'chronic cholestasis', 'jaundice', 'hypertension'}\n",
            "Penyakit di pencegahan yang tidak ada di gejala: {'hyperthyroidism', 'hepatitis d', 'diabetes', 'hypothyroidism', 'aids', '(vertigo) paroymsal  positional vertigo', 'acne', 'dimorphic hemmorhoids(piles)', 'hepatitis b', 'hepatitis c', 'hepatitis a', 'hypoglycemia', 'hepatitis e', 'alcoholic hepatitis', 'drug reaction', 'chronic cholestasis', 'jaundice', 'hypertension'}\n"
          ]
        }
      ]
    },
    {
      "cell_type": "code",
      "source": [
        "# Jika ada penyakit yang hilang, memberi peringatan\n",
        "if missing_in_desc or missing_in_prec:\n",
        "    print(\"\\nPeringatan: Beberapa penyakit di dataset gejala tidak ditemukan di dataset baru. \"\n",
        "          \"Pastikan semua penyakit ada atau tambahkan secara manual.\")"
      ],
      "metadata": {
        "id": "yorxKSw_ioRF"
      },
      "execution_count": null,
      "outputs": []
    },
    {
      "cell_type": "code",
      "source": [
        "# Menerjemahkan deskripsi\n",
        "desc_df[\"Description\"] = desc_df[\"Description\"].apply(lambda x: translate_text(x))\n",
        "\n",
        "# Menerjemahkan tindakan pencegahan\n",
        "for col in [\"Precaution_1\", \"Precaution_2\", \"Precaution_3\", \"Precaution_4\"]:\n",
        "    prec_df[col] = prec_df[col].apply(lambda x: translate_text(x))\n",
        "\n",
        "# Menampilkan contoh isi kolom setelah penerjemahan\n",
        "print(\"\\nContoh isi symptom_description:\")\n",
        "print(desc_df.head())\n",
        "\n",
        "print(\"\\nContoh isi symptom_precaution:\")\n",
        "print(prec_df.head())"
      ],
      "metadata": {
        "id": "FvEg2WhgisN-",
        "colab": {
          "base_uri": "https://localhost:8080/"
        },
        "outputId": "4adff245-e0d3-456d-a815-76d4b33bd29a"
      },
      "execution_count": null,
      "outputs": [
        {
          "output_type": "stream",
          "name": "stdout",
          "text": [
            "\n",
            "Contoh isi translated_symptom_description.csv:\n",
            "          Disease                                        Description\n",
            "0   Drug Reaction  Reaksi obat yang tidak diharapkan (ADR) adalah...\n",
            "1         Malaria  Penyakit menular yang disebabkan oleh parasit ...\n",
            "2         Allergy  Alergi adalah respons sistem imun terhadap zat...\n",
            "3  Hypothyroidism  Hipotiroidisme, disebut juga tiroid kurang akt...\n",
            "4       Psoriasis  Psoriasis adalah kelainan kulit umum yang memb...\n",
            "\n",
            "Contoh isi translated_symptom_precaution.csv:\n",
            "          Disease                           Precaution_1  \\\n",
            "0   Drug Reaction                       hentikan iritasi   \n",
            "1         Malaria  Konsultasikan ke rumah sakit terdekat   \n",
            "2         Allergy                       oleskan calamine   \n",
            "3  Hypothyroidism                       mengurangi stres   \n",
            "4       Psoriasis    cuci tangan dengan air sabun hangat   \n",
            "\n",
            "                                     Precaution_2               Precaution_3  \\\n",
            "0           konsultasikan ke rumah sakit terdekat        berhenti minum obat   \n",
            "1                       hindari makanan berminyak  hindari makanan non-sayur   \n",
            "2              tutupi area tersebut dengan perban                        NaN   \n",
            "3                                         latihan                makan sehat   \n",
            "4  hentikan pendarahan dengan menggunakan tekanan          konsultasi dokter   \n",
            "\n",
            "                        Precaution_4  \n",
            "0                    menindaklanjuti  \n",
            "1                    mengusir nyamuk  \n",
            "2  Gunakan es untuk mengompres gatal  \n",
            "3                   tidur yang cukup  \n",
            "4                        mandi garam  \n"
          ]
        }
      ]
    },
    {
      "cell_type": "code",
      "source": [
        "# Menyimpan file terjemahan\n",
        "desc_df.to_csv(\"symptom_description.csv\", index=False)\n",
        "prec_df.to_csv(\"symptom_precaution.csv\", index=False)"
      ],
      "metadata": {
        "id": "Wi7SigYvS8tv"
      },
      "execution_count": null,
      "outputs": []
    },
    {
      "cell_type": "code",
      "source": [
        "# Mengunduh file\n",
        "files.download(\"symptom_description.csv\")\n",
        "files.download(\"symptom_precaution.csv\")"
      ],
      "metadata": {
        "id": "3JCsEvDxisvc",
        "colab": {
          "base_uri": "https://localhost:8080/",
          "height": 17
        },
        "outputId": "3957d3b4-f85a-4ff1-8436-1cb1dd1871da"
      },
      "execution_count": null,
      "outputs": [
        {
          "output_type": "display_data",
          "data": {
            "text/plain": [
              "<IPython.core.display.Javascript object>"
            ],
            "application/javascript": [
              "\n",
              "    async function download(id, filename, size) {\n",
              "      if (!google.colab.kernel.accessAllowed) {\n",
              "        return;\n",
              "      }\n",
              "      const div = document.createElement('div');\n",
              "      const label = document.createElement('label');\n",
              "      label.textContent = `Downloading \"${filename}\": `;\n",
              "      div.appendChild(label);\n",
              "      const progress = document.createElement('progress');\n",
              "      progress.max = size;\n",
              "      div.appendChild(progress);\n",
              "      document.body.appendChild(div);\n",
              "\n",
              "      const buffers = [];\n",
              "      let downloaded = 0;\n",
              "\n",
              "      const channel = await google.colab.kernel.comms.open(id);\n",
              "      // Send a message to notify the kernel that we're ready.\n",
              "      channel.send({})\n",
              "\n",
              "      for await (const message of channel.messages) {\n",
              "        // Send a message to notify the kernel that we're ready.\n",
              "        channel.send({})\n",
              "        if (message.buffers) {\n",
              "          for (const buffer of message.buffers) {\n",
              "            buffers.push(buffer);\n",
              "            downloaded += buffer.byteLength;\n",
              "            progress.value = downloaded;\n",
              "          }\n",
              "        }\n",
              "      }\n",
              "      const blob = new Blob(buffers, {type: 'application/binary'});\n",
              "      const a = document.createElement('a');\n",
              "      a.href = window.URL.createObjectURL(blob);\n",
              "      a.download = filename;\n",
              "      div.appendChild(a);\n",
              "      a.click();\n",
              "      div.remove();\n",
              "    }\n",
              "  "
            ]
          },
          "metadata": {}
        },
        {
          "output_type": "display_data",
          "data": {
            "text/plain": [
              "<IPython.core.display.Javascript object>"
            ],
            "application/javascript": [
              "download(\"download_7586c698-b27c-459a-b8e3-f41070a81b50\", \"symptom_description.csv\", 11783)"
            ]
          },
          "metadata": {}
        },
        {
          "output_type": "display_data",
          "data": {
            "text/plain": [
              "<IPython.core.display.Javascript object>"
            ],
            "application/javascript": [
              "\n",
              "    async function download(id, filename, size) {\n",
              "      if (!google.colab.kernel.accessAllowed) {\n",
              "        return;\n",
              "      }\n",
              "      const div = document.createElement('div');\n",
              "      const label = document.createElement('label');\n",
              "      label.textContent = `Downloading \"${filename}\": `;\n",
              "      div.appendChild(label);\n",
              "      const progress = document.createElement('progress');\n",
              "      progress.max = size;\n",
              "      div.appendChild(progress);\n",
              "      document.body.appendChild(div);\n",
              "\n",
              "      const buffers = [];\n",
              "      let downloaded = 0;\n",
              "\n",
              "      const channel = await google.colab.kernel.comms.open(id);\n",
              "      // Send a message to notify the kernel that we're ready.\n",
              "      channel.send({})\n",
              "\n",
              "      for await (const message of channel.messages) {\n",
              "        // Send a message to notify the kernel that we're ready.\n",
              "        channel.send({})\n",
              "        if (message.buffers) {\n",
              "          for (const buffer of message.buffers) {\n",
              "            buffers.push(buffer);\n",
              "            downloaded += buffer.byteLength;\n",
              "            progress.value = downloaded;\n",
              "          }\n",
              "        }\n",
              "      }\n",
              "      const blob = new Blob(buffers, {type: 'application/binary'});\n",
              "      const a = document.createElement('a');\n",
              "      a.href = window.URL.createObjectURL(blob);\n",
              "      a.download = filename;\n",
              "      div.appendChild(a);\n",
              "      a.click();\n",
              "      div.remove();\n",
              "    }\n",
              "  "
            ]
          },
          "metadata": {}
        },
        {
          "output_type": "display_data",
          "data": {
            "text/plain": [
              "<IPython.core.display.Javascript object>"
            ],
            "application/javascript": [
              "download(\"download_c8a2d2f9-d197-4117-972c-80a6b3d8da69\", \"symptom_precaution.csv\", 4109)"
            ]
          },
          "metadata": {}
        }
      ]
    }
  ]
}